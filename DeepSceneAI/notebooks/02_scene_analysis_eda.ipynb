{
  "cells": [
    {
      "cell_type": "markdown",
      "metadata": {},
      "source": [
        "# DeepScene - Scene Analysis & EDA\n",
        "\n",
        "This notebook explores scene templates and sample projects:\n",
        "- Load JSON files\n",
        "- Analyze genres, keywords, and moods\n",
        "- Visualize distributions\n",
        "- Extract insights"
      ]
    },
    {
      "cell_type": "code",
      "execution_count": null,
      "metadata": {},
      "outputs": [],
      "source": [
        "import json\n",
        "import pandas as pd\n",
        "import matplotlib.pyplot as plt\n",
        "import seaborn as sns\n",
        "from pathlib import Path\n",
        "\n",
        "data_dir = Path(\"../data\")\n",
        "\n",
        "with open(data_dir / \"scene_templates.json\", \"r\") as f:\n",
        "    scene_templates = json.load(f)\n",
        "\n",
        "with open(data_dir / \"sample_scenes.json\", \"r\") as f:\n",
        "    sample_scenes = json.load(f)\n",
        "\n",
        "print(\"\u2705 Data loaded\")"
      ]
    },
    {
      "cell_type": "code",
      "execution_count": null,
      "metadata": {},
      "outputs": [],
      "source": [
        "# Explore templates\n",
        "genres = list(scene_templates.keys())\n",
        "print(\"Genres:\", genres)\n",
        "\n",
        "for g, v in scene_templates.items():\n",
        "    print(f\"\\nGenre: {g}\")\n",
        "    print(\"Keywords:\", v['keywords'])\n",
        "    print(\"Mood:\", v['mood'])"
      ]
    },
    {
      "cell_type": "code",
      "execution_count": null,
      "metadata": {},
      "outputs": [],
      "source": [
        "# Convert sample scenes to DataFrame\n",
        "projects = sample_scenes.get(\"projects\", [])\n",
        "rows = []\n",
        "for p in projects:\n",
        "    for s in p['scenes']:\n",
        "        rows.append({\n",
        "            \"project_id\": p['id'],\n",
        "            \"genre\": s['genre'],\n",
        "            \"description\": s['description'],\n",
        "            \"mood\": s['mood']['mood'],\n",
        "            \"confidence\": s['mood']['confidence']\n",
        "        })\n",
        "\n",
        "df = pd.DataFrame(rows)\n",
        "df.head()"
      ]
    },
    {
      "cell_type": "code",
      "execution_count": null,
      "metadata": {},
      "outputs": [],
      "source": [
        "# Plot genre distribution\n",
        "plt.figure(figsize=(8,4))\n",
        "sns.countplot(x=\"genre\", data=df)\n",
        "plt.title(\"Genre Distribution in Sample Scenes\")\n",
        "plt.xticks(rotation=45)\n",
        "plt.show()"
      ]
    },
    {
      "cell_type": "code",
      "execution_count": null,
      "metadata": {},
      "outputs": [],
      "source": [
        "# Mood confidence distribution\n",
        "plt.figure(figsize=(6,4))\n",
        "sns.histplot(df['confidence'], bins=10, kde=True)\n",
        "plt.title(\"Mood Confidence Distribution\")\n",
        "plt.show()"
      ]
    }
  ],
  "metadata": {
    "kernelspec": {
      "display_name": "Python 3",
      "language": "python",
      "name": "python3"
    },
    "language_info": {
      "name": "python",
      "version": "3.9"
    }
  },
  "nbformat": 4,
  "nbformat_minor": 5
}