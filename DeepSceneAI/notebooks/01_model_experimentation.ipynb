{
  "cells": [
    {
      "cell_type": "markdown",
      "metadata": {},
      "source": [
        "# DeepScene - Model Experimentation\n",
        "\n",
        "This notebook demonstrates initial experiments with the DeepScene models.\n",
        "- Initialize models\n",
        "- Generate text, classify moods\n",
        "- Generate image prompts\n",
        "- Test end-to-end scene creation"
      ]
    },
    {
      "cell_type": "code",
      "execution_count": null,
      "metadata": {},
      "outputs": [],
      "source": [
        "import sys, os\n",
        "sys.path.append(os.path.join(os.path.dirname(__file__), '..', 'src'))\n",
        "\n",
        "from train import DeepSceneModels\n",
        "from data_loader import SceneDataLoader\n",
        "from preprocess import TextPreprocessor\n",
        "\n",
        "import torch"
      ]
    },
    {
      "cell_type": "code",
      "execution_count": null,
      "metadata": {},
      "outputs": [],
      "source": [
        "# Initialize models\n",
        "models = DeepSceneModels().initialize_all_models()\n",
        "print(\"\u2705 Models initialized on device:\", models.device)"
      ]
    },
    {
      "cell_type": "code",
      "execution_count": null,
      "metadata": {},
      "outputs": [],
      "source": [
        "# Example scene description\n",
        "description = \"Two detectives investigating a crime in a dark warehouse\"\n",
        "\n",
        "data_loader = SceneDataLoader()\n",
        "text_processor = TextPreprocessor()\n",
        "\n",
        "genre = data_loader.classify_scene_genre(description)\n",
        "style = data_loader.get_style_prompt(genre)\n",
        "characters = text_processor.extract_characters(description)\n",
        "setting = text_processor.extract_setting(description)\n",
        "image_prompt = text_processor.generate_image_prompt(description, style)\n",
        "\n",
        "print(\"Genre:\", genre)\n",
        "print(\"Style:\", style)\n",
        "print(\"Characters:\", characters)\n",
        "print(\"Setting:\", setting)\n",
        "print(\"Image prompt:\", image_prompt)"
      ]
    },
    {
      "cell_type": "code",
      "execution_count": null,
      "metadata": {},
      "outputs": [],
      "source": [
        "# Test mood classification\n",
        "mood = models.classify_scene_mood(description)\n",
        "print(\"Mood classification:\", mood)"
      ]
    },
    {
      "cell_type": "code",
      "execution_count": null,
      "metadata": {},
      "outputs": [],
      "source": [
        "# Generate dialogue (text)\n",
        "dialogue = models.generate_dialogue(description)\n",
        "print(\"Generated dialogue:\\n\", dialogue)"
      ]
    }
  ],
  "metadata": {
    "kernelspec": {
      "display_name": "Python 3",
      "language": "python",
      "name": "python3"
    },
    "language_info": {
      "name": "python",
      "version": "3.9"
    }
  },
  "nbformat": 4,
  "nbformat_minor": 5
}